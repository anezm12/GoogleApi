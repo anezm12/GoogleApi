{
  "nbformat": 4,
  "nbformat_minor": 0,
  "metadata": {
    "colab": {
      "provenance": [],
      "authorship_tag": "ABX9TyMSZXEj/E3HIuXYYf0ZgQyK",
      "include_colab_link": true
    },
    "kernelspec": {
      "name": "python3",
      "display_name": "Python 3"
    },
    "language_info": {
      "name": "python"
    }
  },
  "cells": [
    {
      "cell_type": "markdown",
      "metadata": {
        "id": "view-in-github",
        "colab_type": "text"
      },
      "source": [
        "<a href=\"https://colab.research.google.com/github/anezm12/GoogleApi/blob/main/etl_extracting_youtube_comments.ipynb\" target=\"_parent\"><img src=\"https://colab.research.google.com/assets/colab-badge.svg\" alt=\"Open In Colab\"/></a>"
      ]
    },
    {
      "cell_type": "markdown",
      "source": [
        "<h1>Getting comments from a YouTube Video with Google API</h1>"
      ],
      "metadata": {
        "id": "80PtmaqxsMCi"
      }
    },
    {
      "cell_type": "markdown",
      "source": [
        "<h2>Installation of libraries and packages</h2>"
      ],
      "metadata": {
        "id": "W3y-3JFTsZOE"
      }
    },
    {
      "cell_type": "code",
      "source": [
        "pip install --upgrade google-api-python-client\n"
      ],
      "metadata": {
        "colab": {
          "base_uri": "https://localhost:8080/"
        },
        "id": "ek24S67isYLa",
        "outputId": "8d734e39-5a42-4b49-c295-10d0c25bd34c"
      },
      "execution_count": null,
      "outputs": [
        {
          "output_type": "stream",
          "name": "stdout",
          "text": [
            "Requirement already satisfied: google-api-python-client in /usr/local/lib/python3.10/dist-packages (2.84.0)\n",
            "Collecting google-api-python-client\n",
            "  Downloading google_api_python_client-2.105.0-py2.py3-none-any.whl (12.6 MB)\n",
            "\u001b[2K     \u001b[90m━━━━━━━━━━━━━━━━━━━━━━━━━━━━━━━━━━━━━━━━\u001b[0m \u001b[32m12.6/12.6 MB\u001b[0m \u001b[31m50.7 MB/s\u001b[0m eta \u001b[36m0:00:00\u001b[0m\n",
            "\u001b[?25hRequirement already satisfied: httplib2<1.dev0,>=0.15.0 in /usr/local/lib/python3.10/dist-packages (from google-api-python-client) (0.22.0)\n",
            "Requirement already satisfied: google-auth<3.0.0.dev0,>=1.19.0 in /usr/local/lib/python3.10/dist-packages (from google-api-python-client) (2.17.3)\n",
            "Requirement already satisfied: google-auth-httplib2>=0.1.0 in /usr/local/lib/python3.10/dist-packages (from google-api-python-client) (0.1.1)\n",
            "Requirement already satisfied: google-api-core!=2.0.*,!=2.1.*,!=2.2.*,!=2.3.0,<3.0.0.dev0,>=1.31.5 in /usr/local/lib/python3.10/dist-packages (from google-api-python-client) (2.11.1)\n",
            "Requirement already satisfied: uritemplate<5,>=3.0.1 in /usr/local/lib/python3.10/dist-packages (from google-api-python-client) (4.1.1)\n",
            "Requirement already satisfied: googleapis-common-protos<2.0.dev0,>=1.56.2 in /usr/local/lib/python3.10/dist-packages (from google-api-core!=2.0.*,!=2.1.*,!=2.2.*,!=2.3.0,<3.0.0.dev0,>=1.31.5->google-api-python-client) (1.61.0)\n",
            "Requirement already satisfied: protobuf!=3.20.0,!=3.20.1,!=4.21.0,!=4.21.1,!=4.21.2,!=4.21.3,!=4.21.4,!=4.21.5,<5.0.0.dev0,>=3.19.5 in /usr/local/lib/python3.10/dist-packages (from google-api-core!=2.0.*,!=2.1.*,!=2.2.*,!=2.3.0,<3.0.0.dev0,>=1.31.5->google-api-python-client) (3.20.3)\n",
            "Requirement already satisfied: requests<3.0.0.dev0,>=2.18.0 in /usr/local/lib/python3.10/dist-packages (from google-api-core!=2.0.*,!=2.1.*,!=2.2.*,!=2.3.0,<3.0.0.dev0,>=1.31.5->google-api-python-client) (2.31.0)\n",
            "Requirement already satisfied: cachetools<6.0,>=2.0.0 in /usr/local/lib/python3.10/dist-packages (from google-auth<3.0.0.dev0,>=1.19.0->google-api-python-client) (5.3.1)\n",
            "Requirement already satisfied: pyasn1-modules>=0.2.1 in /usr/local/lib/python3.10/dist-packages (from google-auth<3.0.0.dev0,>=1.19.0->google-api-python-client) (0.3.0)\n",
            "Requirement already satisfied: six>=1.9.0 in /usr/local/lib/python3.10/dist-packages (from google-auth<3.0.0.dev0,>=1.19.0->google-api-python-client) (1.16.0)\n",
            "Requirement already satisfied: rsa<5,>=3.1.4 in /usr/local/lib/python3.10/dist-packages (from google-auth<3.0.0.dev0,>=1.19.0->google-api-python-client) (4.9)\n",
            "Requirement already satisfied: pyparsing!=3.0.0,!=3.0.1,!=3.0.2,!=3.0.3,<4,>=2.4.2 in /usr/local/lib/python3.10/dist-packages (from httplib2<1.dev0,>=0.15.0->google-api-python-client) (3.1.1)\n",
            "Requirement already satisfied: pyasn1<0.6.0,>=0.4.6 in /usr/local/lib/python3.10/dist-packages (from pyasn1-modules>=0.2.1->google-auth<3.0.0.dev0,>=1.19.0->google-api-python-client) (0.5.0)\n",
            "Requirement already satisfied: charset-normalizer<4,>=2 in /usr/local/lib/python3.10/dist-packages (from requests<3.0.0.dev0,>=2.18.0->google-api-core!=2.0.*,!=2.1.*,!=2.2.*,!=2.3.0,<3.0.0.dev0,>=1.31.5->google-api-python-client) (3.3.0)\n",
            "Requirement already satisfied: idna<4,>=2.5 in /usr/local/lib/python3.10/dist-packages (from requests<3.0.0.dev0,>=2.18.0->google-api-core!=2.0.*,!=2.1.*,!=2.2.*,!=2.3.0,<3.0.0.dev0,>=1.31.5->google-api-python-client) (3.4)\n",
            "Requirement already satisfied: urllib3<3,>=1.21.1 in /usr/local/lib/python3.10/dist-packages (from requests<3.0.0.dev0,>=2.18.0->google-api-core!=2.0.*,!=2.1.*,!=2.2.*,!=2.3.0,<3.0.0.dev0,>=1.31.5->google-api-python-client) (2.0.7)\n",
            "Requirement already satisfied: certifi>=2017.4.17 in /usr/local/lib/python3.10/dist-packages (from requests<3.0.0.dev0,>=2.18.0->google-api-core!=2.0.*,!=2.1.*,!=2.2.*,!=2.3.0,<3.0.0.dev0,>=1.31.5->google-api-python-client) (2023.7.22)\n",
            "Installing collected packages: google-api-python-client\n",
            "  Attempting uninstall: google-api-python-client\n",
            "    Found existing installation: google-api-python-client 2.84.0\n",
            "    Uninstalling google-api-python-client-2.84.0:\n",
            "      Successfully uninstalled google-api-python-client-2.84.0\n",
            "Successfully installed google-api-python-client-2.105.0\n"
          ]
        }
      ]
    },
    {
      "cell_type": "code",
      "source": [
        "pip install pandas"
      ],
      "metadata": {
        "colab": {
          "base_uri": "https://localhost:8080/"
        },
        "id": "zsPD_gSrtToJ",
        "outputId": "f3f0e9fb-777c-4e40-d3af-fe03a8795883"
      },
      "execution_count": null,
      "outputs": [
        {
          "output_type": "stream",
          "name": "stdout",
          "text": [
            "Requirement already satisfied: pandas in /usr/local/lib/python3.10/dist-packages (1.5.3)\n",
            "Requirement already satisfied: python-dateutil>=2.8.1 in /usr/local/lib/python3.10/dist-packages (from pandas) (2.8.2)\n",
            "Requirement already satisfied: pytz>=2020.1 in /usr/local/lib/python3.10/dist-packages (from pandas) (2023.3.post1)\n",
            "Requirement already satisfied: numpy>=1.21.0 in /usr/local/lib/python3.10/dist-packages (from pandas) (1.23.5)\n",
            "Requirement already satisfied: six>=1.5 in /usr/local/lib/python3.10/dist-packages (from python-dateutil>=2.8.1->pandas) (1.16.0)\n"
          ]
        }
      ]
    },
    {
      "cell_type": "code",
      "source": [
        "from googleapiclient.discovery import build\n",
        "\n",
        "import pandas as pd\n",
        "\n",
        "import os"
      ],
      "metadata": {
        "id": "sqdL5TGQtdRE"
      },
      "execution_count": 1,
      "outputs": []
    },
    {
      "cell_type": "markdown",
      "source": [
        "<h2>Script</h2>"
      ],
      "metadata": {
        "id": "SMV4iklwto__"
      }
    },
    {
      "cell_type": "markdown",
      "source": [
        "<h3>Defining the Key </h3>\n",
        "<p>\n",
        "This Key is created in https://console.cloud.google.com/ as is mentioned in the Google API Doc\n",
        "\n",
        "</p>"
      ],
      "metadata": {
        "id": "A_lMOUxLt7tl"
      }
    },
    {
      "cell_type": "code",
      "source": [
        "# For security is always good practice save those key into a enviroemnt variables\n",
        "\n",
        "api_key = 'YOUR_API_KEY'"
      ],
      "metadata": {
        "id": "7cd2DEcktwXb"
      },
      "execution_count": null,
      "outputs": []
    },
    {
      "cell_type": "markdown",
      "source": [
        "<h3>Getting comments in a JSON </h3>"
      ],
      "metadata": {
        "id": "O8ihRnr4v_3z"
      }
    },
    {
      "cell_type": "code",
      "source": [
        "def get_youtube_video_comments(api_key, video_id):\n",
        "    \"\"\"\n",
        "    Retrieves comments for a YouTube video using the YouTube Data API.\n",
        "\n",
        "    Args:\n",
        "        api_key (str): Your YouTube Data API key.\n",
        "        video_id (str): The ID of the YouTube video for which you want to retrieve comments.\n",
        "\n",
        "    Returns:\n",
        "        dict: The response from the YouTube Data API, including comments for the video.\n",
        "    \"\"\"\n",
        "    # Build a client to access the YouTube Data API\n",
        "    youtube = build('youtube', 'v3', developerKey=api_key)\n",
        "\n",
        "    # Create a request to fetch video comments\n",
        "    request = youtube.commentThreads().list(\n",
        "        part=\"snippet,replies\",\n",
        "        maxResults=100,  # Maximum number of comments to retrieve\n",
        "        moderationStatus=\"published\",  # Only retrieve published comments\n",
        "        order=\"time\",  # Order comments by time\n",
        "        videoId=video_id  # Specify the video by its ID\n",
        "    )\n",
        "\n",
        "    # Execute the request and get the response\n",
        "    response = request.execute()\n",
        "\n",
        "    # Return the response to the caller\n",
        "    return response\n",
        "\n",
        "# Usage example\n",
        "api_key = 'YOUR_API_KEY'  # Replace with your YouTube Data API key\n",
        "video_id = 'VIDIO_ID'  # Replace with the ID of the YouTube video you're interested in\n",
        "\n",
        "# Call the function to get video comments and print the result\n",
        "result = get_youtube_video_comments(api_key, video_id)\n",
        "print(result)"
      ],
      "metadata": {
        "id": "1Rm7QVA5t6tz"
      },
      "execution_count": null,
      "outputs": []
    },
    {
      "cell_type": "markdown",
      "source": [
        "<h4>View JSON</h4>\n",
        "\n",
        "<p>\n",
        "In order to understand the structure of the JSON file we need to see the Keys in a readable format.\n",
        "</p>"
      ],
      "metadata": {
        "id": "PrV1drwt00Si"
      }
    },
    {
      "cell_type": "code",
      "source": [
        "import json\n",
        "\n",
        "# Format the JSON response for readability\n",
        "formatted_response = json.dumps(response, indent=4)\n",
        "\n",
        "# Print the formatted JSON response\n",
        "print(formatted_response)"
      ],
      "metadata": {
        "id": "KbgaLPJj17D_"
      },
      "execution_count": null,
      "outputs": []
    },
    {
      "cell_type": "markdown",
      "source": [
        "<h3>Refineing the desires key values</h3>"
      ],
      "metadata": {
        "id": "6zAOXn3p1-zQ"
      }
    },
    {
      "cell_type": "code",
      "source": [
        "def process_youtube_comments(response):\n",
        "    \"\"\"\n",
        "    Process and refine comments from a YouTube API response.\n",
        "\n",
        "    Args:\n",
        "        response (dict): The JSON response from the YouTube API containing comment data.\n",
        "\n",
        "    Returns:\n",
        "        list: A list of dictionaries, each representing a refined comment with author, text, and date.\n",
        "    \"\"\"\n",
        "    comments_list = []\n",
        "\n",
        "    # Iterate through items in the API response\n",
        "    for item in response[\"items\"]:\n",
        "        topLevelComment = item[\"snippet\"][\"topLevelComment\"][\"snippet\"]\n",
        "        textDisplay = topLevelComment[\"textDisplay\"]\n",
        "        authorDisplayName = topLevelComment[\"authorDisplayName\"]\n",
        "        publishedAt = topLevelComment[\"publishedAt\"]\n",
        "\n",
        "        # Create a refined comment dictionary\n",
        "        refined_comment = {\n",
        "            'author': authorDisplayName,\n",
        "            'text': textDisplay,\n",
        "            'date': publishedAt\n",
        "        }\n",
        "\n",
        "        # Append the refined comment to the list\n",
        "        comments_list.append(refined_comment)\n",
        "\n",
        "    # Return the list of refined comments\n",
        "    return comments_list\n"
      ],
      "metadata": {
        "id": "ZnPnqTpo2lyR"
      },
      "execution_count": null,
      "outputs": []
    },
    {
      "cell_type": "markdown",
      "source": [
        "<h3>Working with Pandas Library</h3>"
      ],
      "metadata": {
        "id": "X-YiMSM82r7I"
      }
    },
    {
      "cell_type": "code",
      "source": [
        "# Convert the list of refined comments into a DataFrame\n",
        "df = pd.DataFrame(comments_list)\n",
        "\n",
        "# Convert the \"date\" column to datetime format using the specified 'ISO8601' format\n",
        "df[\"date\"] = pd.to_datetime(df[\"date\"], format='ISO8601')\n",
        "\n",
        "# Format the \"date\" column into ISO 8601 date format (e.g., \"YYYY-MM-DD\")\n",
        "df[\"date\"] = df[\"date\"].dt.strftime(\"%Y-%m-%d\")\n",
        "\n",
        "# Save the DataFrame to a CSV file named \"YouTube video comments.csv\" without an index column\n",
        "df.to_csv(\"YouTube video comments.csv\", index=False)\n"
      ],
      "metadata": {
        "id": "dliLYKy13UAY"
      },
      "execution_count": null,
      "outputs": []
    }
  ]
}